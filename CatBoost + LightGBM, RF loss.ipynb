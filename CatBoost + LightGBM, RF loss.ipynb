{
  "nbformat": 4,
  "nbformat_minor": 0,
  "metadata": {
    "colab": {
      "provenance": [],
      "machine_shape": "hm",
      "gpuType": "A100"
    },
    "kernelspec": {
      "name": "python3",
      "display_name": "Python 3"
    },
    "language_info": {
      "name": "python"
    },
    "accelerator": "GPU"
  },
  "cells": [
    {
      "cell_type": "code",
      "execution_count": 1,
      "metadata": {
        "colab": {
          "base_uri": "https://localhost:8080/"
        },
        "id": "-DcRcn99L4dS",
        "outputId": "956ec219-096b-4bb1-aff0-e25283f3a261"
      },
      "outputs": [
        {
          "output_type": "stream",
          "name": "stdout",
          "text": [
            "Mounted at /content/drive\n"
          ]
        }
      ],
      "source": [
        "from google.colab import drive\n",
        "drive.mount('/content/drive')"
      ]
    },
    {
      "cell_type": "code",
      "source": [
        "%cd /content/drive/MyDrive/Colab Notebooks/DACON/6.클릭율 예측 대회"
      ],
      "metadata": {
        "colab": {
          "base_uri": "https://localhost:8080/"
        },
        "id": "vq3mqClQL64A",
        "outputId": "9b984983-534c-46f7-8f3c-506e96ac26d9"
      },
      "execution_count": 2,
      "outputs": [
        {
          "output_type": "stream",
          "name": "stdout",
          "text": [
            "/content/drive/MyDrive/Colab Notebooks/DACON/6.클릭율 예측 대회\n"
          ]
        }
      ]
    },
    {
      "cell_type": "code",
      "source": [
        "!pip install -qq catboost==1.2.5\n",
        "!pip install -qq lightgbm==4.3.0\n",
        "!pip install -qq imblearn"
      ],
      "metadata": {
        "colab": {
          "base_uri": "https://localhost:8080/"
        },
        "id": "r0-6a9arL66W",
        "outputId": "cf1c9e84-066a-4c17-bfea-b606cf18a186"
      },
      "execution_count": 3,
      "outputs": [
        {
          "output_type": "stream",
          "name": "stdout",
          "text": [
            "\u001b[2K     \u001b[90m━━━━━━━━━━━━━━━━━━━━━━━━━━━━━━━━━━━━━━━━\u001b[0m \u001b[32m98.2/98.2 MB\u001b[0m \u001b[31m17.9 MB/s\u001b[0m eta \u001b[36m0:00:00\u001b[0m\n",
            "\u001b[2K     \u001b[90m━━━━━━━━━━━━━━━━━━━━━━━━━━━━━━━━━━━━━━━━\u001b[0m \u001b[32m3.1/3.1 MB\u001b[0m \u001b[31m28.4 MB/s\u001b[0m eta \u001b[36m0:00:00\u001b[0m\n",
            "\u001b[?25h"
          ]
        }
      ]
    },
    {
      "cell_type": "code",
      "source": [
        "import os\n",
        "import random\n",
        "import time\n",
        "import bisect\n",
        "from tqdm import tqdm\n",
        "from joblib import Memory\n",
        "\n",
        "import numpy as np\n",
        "import pandas as pd\n",
        "from sklearn.model_selection import train_test_split\n",
        "from sklearn.preprocessing import LabelEncoder\n",
        "from imblearn.under_sampling import RandomUnderSampler\n",
        "from catboost import CatBoostClassifier\n",
        "import lightgbm as lgb\n",
        "\n",
        "import warnings\n",
        "warnings.filterwarnings('ignore')\n",
        "\n",
        "def seed_everything(seed):\n",
        "    random.seed(seed)\n",
        "    os.environ['PYTHONHASHSEED'] = str(seed)\n",
        "    np.random.seed(seed)\n",
        "\n",
        "seed_everything(42)"
      ],
      "metadata": {
        "id": "X1yvf9EXL68d"
      },
      "execution_count": 4,
      "outputs": []
    },
    {
      "cell_type": "code",
      "source": [
        "cachedir = './cache/'\n",
        "memory = Memory(cachedir, verbose=0)\n",
        "\n",
        "@memory.cache\n",
        "def preprocess_data(train_path, test_path, model_type='LightGBM', version=1, test_size=0.25, random_state=42):\n",
        "    train = pd.read_csv(train_path)\n",
        "    test = pd.read_csv(test_path)\n",
        "\n",
        "    num_cols = ['F04', 'F06', 'F11', 'F14', 'F18', 'F19', 'F24', 'F27', 'F29', 'F32', 'F33', 'F36', 'F38']\n",
        "    cat_cols = ['ID', 'F01', 'F02', 'F03', 'F05', 'F07', 'F08', 'F09', 'F10', 'F12', 'F13', 'F15', 'F16', 'F17',\n",
        "                'F20', 'F21', 'F22', 'F23', 'F25', 'F26', 'F28', 'F30', 'F31', 'F34', 'F35', 'F37', 'F39']\n",
        "\n",
        "    if model_type == 'LightGBM':\n",
        "        columns_to_drop = ['ID', 'F35', 'F23', 'F38']\n",
        "    elif model_type == 'CatBoost':\n",
        "        columns_to_drop = ['ID', 'F30', 'F22', 'F23']\n",
        "\n",
        "    train = train.drop(columns_to_drop, axis=1)\n",
        "    test = test.drop(columns_to_drop, axis=1)\n",
        "\n",
        "    if version == 1:\n",
        "        num_cols = [col for col in num_cols if col not in columns_to_drop]\n",
        "        cat_cols = [col for col in cat_cols if col not in columns_to_drop]\n",
        "\n",
        "        train[num_cols] = train[num_cols].fillna(0)\n",
        "        test[num_cols] = test[num_cols].fillna(0)\n",
        "        train[cat_cols] = train[cat_cols].fillna('-1')\n",
        "        test[cat_cols] = test[cat_cols].fillna('-1')\n",
        "\n",
        "    elif version == 2:\n",
        "        train = train.dropna(subset=['F32', 'F29', 'F36', 'F24'], how='all')\n",
        "        threshold = 10\n",
        "        train = train.dropna(thresh=train.shape[1] - threshold + 1)\n",
        "\n",
        "\n",
        "        num_cols = [col for col in num_cols if col not in columns_to_drop]\n",
        "        cat_cols = [col for col in cat_cols if col not in columns_to_drop]\n",
        "\n",
        "        train[num_cols] = train[num_cols].fillna(0)\n",
        "        test[num_cols] = test[num_cols].fillna(0)\n",
        "        train[cat_cols] = train[cat_cols].fillna('-1')\n",
        "        test[cat_cols] = test[cat_cols].fillna('-1')\n",
        "        train = train.drop_duplicates()\n",
        "\n",
        "    bit_cols = train.select_dtypes(include=['float64', 'int64']).columns\n",
        "    train[bit_cols] = train[bit_cols].astype('int32')\n",
        "    bit_cols = bit_cols.drop('Click')\n",
        "    test[bit_cols] = test[bit_cols].astype('int32')\n",
        "\n",
        "    train[cat_cols] = train[cat_cols].astype('category')\n",
        "    test[cat_cols] = test[cat_cols].astype('category')\n",
        "\n",
        "    if model_type == 'LightGBM':\n",
        "        encoders = {}\n",
        "        for feature in tqdm(cat_cols, desc=\"Encoding features\"):\n",
        "            le = LabelEncoder()\n",
        "            train[feature] = le.fit_transform(train[feature].astype(str))\n",
        "            le_classes_set = set(le.classes_)\n",
        "            test[feature] = test[feature].map(lambda s: '-1' if s not in le_classes_set else s)\n",
        "            le_classes = le.classes_.tolist()\n",
        "            bisect.insort_left(le_classes, '-1')\n",
        "            le.classes_ = np.array(le_classes)\n",
        "            test[feature] = le.transform(test[feature].astype(str))\n",
        "            encoders[feature] = le\n",
        "\n",
        "    X_train, X_valid, y_train, y_valid = train_test_split(train.drop('Click', axis=1), train['Click'], test_size=test_size, random_state=random_state, stratify=train['Click'])\n",
        "\n",
        "    return X_train, X_valid, y_train, y_valid, test, cat_cols\n",
        "\n",
        "X_train_l1, X_valid_l1, y_train_l1, y_valid_l1, test_l1, _ = preprocess_data('data/train.csv', 'data/test.csv', model_type='LightGBM', version=1)\n",
        "X_train_l2, X_valid_l2, y_train_l2, y_valid_l2, test_l2, _ = preprocess_data('data/train.csv', 'data/test.csv', model_type='LightGBM', version=2)\n",
        "\n",
        "X_train_c1, X_valid_c1, y_train_c1, y_valid_c1, test_c1, cat_cols_c1 = preprocess_data('data/train.csv', 'data/test.csv', model_type='CatBoost', version=1)\n",
        "X_train_c2, X_valid_c2, y_train_c2, y_valid_c2, test_c2, cat_cols_c2 = preprocess_data('data/train.csv', 'data/test.csv', model_type='CatBoost', version=2)"
      ],
      "metadata": {
        "id": "sXR5D7Hslqp6"
      },
      "execution_count": 5,
      "outputs": []
    },
    {
      "cell_type": "code",
      "source": [
        "def undersample_data(X_train, y_train, random_state=42):\n",
        "    rus = RandomUnderSampler(random_state=random_state)\n",
        "    X_train_new, y_train_new = rus.fit_resample(X_train, y_train)\n",
        "    return X_train_new, y_train_new"
      ],
      "metadata": {
        "id": "Alp16eMU-_D2"
      },
      "execution_count": 6,
      "outputs": []
    },
    {
      "cell_type": "markdown",
      "source": [
        "# CatBoost"
      ],
      "metadata": {
        "id": "dqpFn2UeOtS1"
      }
    },
    {
      "cell_type": "code",
      "source": [
        "class RFLBinaryObjective:\n",
        "    \"\"\"\n",
        "    출처: https://github.com/Luojiaqimath/Robust-GBDT/blob/main/rfl_loss.py\n",
        "    참고: https://github.com/catboost/catboost/blob/master/catboost/tutorials/custom_loss/custom_loss_and_metric_tutorial.ipynb\n",
        "    \"\"\"\n",
        "    def __init__(self, r, q, clip=False):\n",
        "        self.r = r\n",
        "        self.q = q\n",
        "        self.clip = clip\n",
        "        self.epsilon = 1e-16\n",
        "\n",
        "    def calc_ders_range(self, preds, labels, weights):\n",
        "        pt = self.sigmoid(preds)\n",
        "        pt[labels==0] = 1-pt[labels==0]\n",
        "        grad = (2*labels-1) * self.grad(pt)\n",
        "        hess = self.hess1(pt) + self.hess2(pt)\n",
        "\n",
        "        if self.clip:\n",
        "            hess = np.maximum(hess, self.epsilon)\n",
        "\n",
        "        return list(zip(grad, hess))\n",
        "\n",
        "    def grad(self, p):\n",
        "        result = np.zeros(p.shape)\n",
        "        p1 = p[(0<p) & (p<1)]\n",
        "        if self.r>0 and self.q>0:\n",
        "            result[(0<p) & (p<1)] = (self.r*p1*((1-p1)**self.r)*(p1**self.q-1)-self.q*(p1**self.q)*(1-p1)**(self.r+1))/self.q\n",
        "        elif self.r==0 and self.q>0:\n",
        "            result[(0<p) & (p<1)] = (p1**self.q)*(p1-1)\n",
        "        elif self.r>0 and self.q==0:\n",
        "            p1 = np.clip(p1, 1e-9, 1)\n",
        "            result[(0<p) & (p<1)] = ((1-p1)**self.r)*(self.r*p1*np.log(p1)+p1-1)\n",
        "        else:\n",
        "            result[(0<p) & (p<1)] = p1-1\n",
        "        return result\n",
        "\n",
        "    def hess1(self, p):\n",
        "        result = np.zeros(p.shape)\n",
        "        p1 = p[(0<p) & (p<1)]\n",
        "        if self.r>0 and self.q>0:\n",
        "            result[(0<p) & (p<1)] = ((1-p1)**self.r)*(-self.r*(self.r-1)*(p1**self.q-1)*p1**2-self.q*(self.q-1)*(p1**self.q)*(p1-1)**2-2*self.r*self.q*p1**(self.q+1)*(p1-1))/self.q\n",
        "        elif self.r==0 and self.q>0:\n",
        "            result[(0<p) & (p<1)] = (1-self.q)*(p1**self.q)*(p1-1)**2\n",
        "        elif self.r>0 and self.q==0:\n",
        "            p1 = np.clip(p1, 1e-12, 1)\n",
        "            result[(0<p) & (p<1)] = ((1-p1)**self.r)*(-self.r*(self.r-1)*p1**2*np.log(p1)-2*self.r*p1*(p1-1)+(p1-1)**2)\n",
        "        else:\n",
        "            result[(0<p) & (p<1)] = (p1-1)**2\n",
        "        return result\n",
        "\n",
        "    def hess2(self, p):\n",
        "        result = np.zeros(p.shape)\n",
        "        p1 = p[(0<p) & (p<1)]\n",
        "        if self.r>0 and self.q>0:\n",
        "            result[(0<p) & (p<1)] = (1-2*p1)*(self.r*((1-p1)**self.r)*(p1**self.q-1)*p1-self.q*(p1**self.q)*((1-p1)**(self.r+1)))/self.q\n",
        "        elif self.r==0 and self.q>0:\n",
        "            result[(0<p) & (p<1)] = -(p1**self.q)*(p1-1)*(2*p1-1)\n",
        "        elif self.r>0 and self.q==0:\n",
        "            p1 = np.clip(p1, 1e-12, 1)\n",
        "            result[(0<p) & (p<1)] = ((1-p1)**self.r)*(1-2*p1)*(self.r*p1*np.log(p1)+p1-1)\n",
        "        else:\n",
        "            result[(0<p) & (p<1)] = (1-p1)*(2*p1-1)\n",
        "        return result\n",
        "\n",
        "    def sigmoid(self, x):\n",
        "        x = np.minimum(-x, 88.7)\n",
        "        return 1 / (1 + np.exp(x) + self.epsilon)"
      ],
      "metadata": {
        "id": "bagJdXKCL7N4"
      },
      "execution_count": 7,
      "outputs": []
    },
    {
      "cell_type": "code",
      "source": [
        "def Catboost_tp_func(train_data, train_labels, valid_data, valid_labels, test_data, cat_features, snapshot_file, custom_loss=None):\n",
        "    if custom_loss:\n",
        "        model = CatBoostClassifier(\n",
        "            iterations=10000,\n",
        "            custom_metric=['AUC'],\n",
        "            eval_metric='AUC',\n",
        "            learning_rate=0.3,\n",
        "            verbose=1,\n",
        "            random_seed=42,\n",
        "            save_snapshot=True,\n",
        "            snapshot_file=snapshot_file,\n",
        "            loss_function=custom_loss\n",
        "        )\n",
        "    else:\n",
        "        model = CatBoostClassifier(\n",
        "            iterations=1,\n",
        "            custom_metric=['AUC'],\n",
        "            eval_metric='AUC',\n",
        "            learning_rate=0.3,\n",
        "            verbose=5,\n",
        "            random_seed=42,\n",
        "            save_snapshot=True,\n",
        "            snapshot_file=snapshot_file,\n",
        "            task_type='GPU',\n",
        "            devices='0',\n",
        "        )\n",
        "\n",
        "    model.fit(\n",
        "        train_data, train_labels,\n",
        "        eval_set=(valid_data, valid_labels),\n",
        "        cat_features=cat_features,\n",
        "        use_best_model=True,\n",
        "        early_stopping_rounds=10\n",
        "    )\n",
        "\n",
        "    return model.predict_proba(test_data)[:, 1]"
      ],
      "metadata": {
        "id": "1p1yEZUfXdeC"
      },
      "execution_count": 26,
      "outputs": []
    },
    {
      "cell_type": "code",
      "source": [
        "X_train_new_c1, y_train_new_c1 = undersample_data(X_train_c1, y_train_c1)\n",
        "\n",
        "p1 = Catboost_tp_func(X_train_new_c1,\n",
        "                      y_train_new_c1,\n",
        "                      X_valid_c1,\n",
        "                      y_valid_c1,\n",
        "                      test_c1,\n",
        "                      cat_cols_c1,\n",
        "                      'model_snapshot(LogLoss-rus-v1-t).model'\n",
        "                      )"
      ],
      "metadata": {
        "id": "N1M1yhNBvgwd"
      },
      "execution_count": null,
      "outputs": []
    },
    {
      "cell_type": "code",
      "source": [
        "# p2 = Catboost_tp_func(X_train_c1,\n",
        "#                       y_train_c1,\n",
        "#                       X_valid_c1,\n",
        "#                       y_valid_c1,\n",
        "#                       test_c1,\n",
        "#                       cat_cols_c1,\n",
        "#                       'model_snapshot(RFL-v1-t).model',\n",
        "#                       custom_loss=RFLBinaryObjective(r=1.0, q=0.5, clip=True)\n",
        "#                       )"
      ],
      "metadata": {
        "id": "cfY9rhVaB0fS"
      },
      "execution_count": null,
      "outputs": []
    },
    {
      "cell_type": "code",
      "source": [
        "X_train_new_c2, y_train_new_c2 = undersample_data(X_train_c2, y_train_c2)\n",
        "\n",
        "p3 = Catboost_tp_func(X_train_new_c2,\n",
        "                      y_train_new_c2,\n",
        "                      X_valid_c2,\n",
        "                      y_valid_c2,\n",
        "                      test_c2,\n",
        "                      cat_cols_c2,\n",
        "                      'model_snapshot(LogLoss-rus-v2-t).model'\n",
        "                      )"
      ],
      "metadata": {
        "id": "2DZGNnQgvcbD"
      },
      "execution_count": null,
      "outputs": []
    },
    {
      "cell_type": "code",
      "source": [
        "p4 = Catboost_tp_func(X_train_c2,\n",
        "                      y_train_c2,\n",
        "                      X_valid_c2,\n",
        "                      y_valid_c2,\n",
        "                      test_c2,\n",
        "                      cat_cols_c2,\n",
        "                      'model_snapshot(RFL-v2-t).model',\n",
        "                      custom_loss=RFLBinaryObjective(r=1.0, q=0.5, clip=True)\n",
        "                      )"
      ],
      "metadata": {
        "id": "5BsxEl4EB-1u"
      },
      "execution_count": null,
      "outputs": []
    },
    {
      "cell_type": "markdown",
      "source": [
        "# LGBM"
      ],
      "metadata": {
        "id": "Z015EYl4Ogpg"
      }
    },
    {
      "cell_type": "code",
      "source": [
        "!mkdir -p /etc/OpenCL/vendors && echo \"libnvidia-opencl.so.1\" > /etc/OpenCL/vendors/nvidia.icd"
      ],
      "metadata": {
        "id": "3UJQFUyjBAzd"
      },
      "execution_count": 13,
      "outputs": []
    },
    {
      "cell_type": "code",
      "source": [
        "class RFLBinary():\n",
        "    \"\"\"\n",
        "    출처: https://github.com/Luojiaqimath/Robust-GBDT/blob/main/rfl_loss.py\n",
        "    \"\"\"\n",
        "    def __init__(self, r, q, sklearn=False, clip=False):\n",
        "        self.r = r\n",
        "        self.q = q\n",
        "        self.clip = clip\n",
        "        self.sklearn = sklearn\n",
        "        self.epsilon = 1e-16\n",
        "\n",
        "    def __call__(self, labels, preds):\n",
        "\n",
        "        pt = self.sigmoid(preds)\n",
        "        pt[labels==0] = 1-pt[labels==0]\n",
        "        grad = np.zeros(preds.shape[0])\n",
        "        hess = np.zeros(preds.shape[0])\n",
        "\n",
        "        grad = (2*labels-1)*self.grad(pt)\n",
        "        hess = self.hess1(pt)+self.hess2(pt)\n",
        "\n",
        "        if self.clip:\n",
        "            return grad, np.maximum(hess, self.epsilon)\n",
        "        else:\n",
        "            return grad, hess\n",
        "\n",
        "    def grad(self, p):\n",
        "        result = np.zeros(p.shape)\n",
        "        p1 = p[(0<p)&(p<1)]\n",
        "        if self.r > 0 and self.q > 0:\n",
        "            result[(0<p)&(p<1)] = (self.r*p1*((1-p1)**self.r)*(p1**self.q-1)-\\\n",
        "                self.q*(p1**self.q)*(1-p1)**(self.r+1))/self.q\n",
        "        elif self.r == 0 and self.q > 0:\n",
        "            result[(0<p)&(p<1)] = (p1**self.q)*(p1-1)\n",
        "        elif self.r > 0 and self.q == 0:\n",
        "            p1 = np.clip(p1, 1e-9, 1)\n",
        "            result[(0<p)&(p<1)] = ((1-p1)**self.r)*(self.r*p1*np.log(p1)+p1-1)\n",
        "        else:\n",
        "            result[(0<p)&(p<1)] = p1-1\n",
        "        return result\n",
        "\n",
        "    def hess1(self, p):\n",
        "        result = np.zeros(p.shape)\n",
        "        p1 = p[(0<p)&(p<1)]\n",
        "        if self.r > 0 and self.q > 0:\n",
        "            result[(0<p)&(p<1)] = ((1-p1)**self.r)*(-self.r*(self.r-1)*(p1**self.q-1)*p1**2-\\\n",
        "                self.q*(self.q-1)*(p1**self.q)*(p1-1)**2-2*self.r*self.q*p1**(self.q+1)*(p1-1))/self.q\n",
        "        elif self.r == 0 and self.q > 0:\n",
        "            result[(0<p)&(p<1)] = (1-self.q)*(p1**self.q)*(p1-1)**2\n",
        "        elif self.r > 0 and self.q == 0:\n",
        "            p1 = np.clip(p1, 1e-12, 1)\n",
        "            result[(0<p)&(p<1)] = ((1-p1)**self.r)*(-self.r*(self.r-1)*p1**2*np.log(p1)-\\\n",
        "                2*self.r*p1*(p1-1)+(p1-1)**2)\n",
        "        else:\n",
        "            result[(0<p)&(p<1)] = (p1-1)**2\n",
        "        return result\n",
        "\n",
        "    def hess2(self, p):\n",
        "        result = np.zeros(p.shape)\n",
        "        p1 = p[(0<p)&(p<1)]\n",
        "        if self.r > 0 and self.q > 0:\n",
        "            result[(0<p)&(p<1)] = (1-2*p1)*(self.r*((1-p1)**self.r)*(p1**self.q-1)*p1-\\\n",
        "                self.q*(p1**self.q)*((1-p1)**(self.r+1)))/self.q\n",
        "        elif self.r == 0 and self.q > 0:\n",
        "            result[(0<p)&(p<1)] = -(p1**self.q)*(p1-1)*(2*p1-1)\n",
        "        elif self.r > 0 and self.q == 0:\n",
        "            p1 = np.clip(p1, 1e-12, 1)\n",
        "            result[(0<p)&(p<1)] = ((1-p1)**self.r)*(1-2*p1)*(self.r*p1*np.log(p1)+p1-1)\n",
        "        else:\n",
        "            result[(0<p)&(p<1)] = (1-p1)*(2*p1-1)\n",
        "        return result\n",
        "\n",
        "    def sigmoid(self, x):\n",
        "        x = np.minimum(-x, 88.7)\n",
        "        return 1 / (1 + np.exp(x)+self.epsilon)"
      ],
      "metadata": {
        "id": "S3TxOCoJBEQn"
      },
      "execution_count": 14,
      "outputs": []
    },
    {
      "cell_type": "code",
      "source": [
        "def sigmoid(x):\n",
        "    kEps = 1e-16\n",
        "    x = np.minimum(-x, 88.7)\n",
        "    return 1 / (1 + np.exp(x)+kEps)\n",
        "\n",
        "def predict_proba(model, X):\n",
        "    prediction = model.predict(X)\n",
        "    prediction_probabilities = sigmoid(prediction).reshape(-1, 1)\n",
        "    prediction_probabilities = np.concatenate((1 - prediction_probabilities, prediction_probabilities), 1)\n",
        "    return prediction_probabilities"
      ],
      "metadata": {
        "id": "tyU6SVPlYi--"
      },
      "execution_count": 15,
      "outputs": []
    },
    {
      "cell_type": "code",
      "source": [
        "def LGBM_tp_func(train_data, train_labels, valid_data, valid_labels, test_data, stopping_rounds=110, objective=None):\n",
        "    LGBM = lgb.LGBMClassifier(\n",
        "        objective=objective if objective else 'binary',\n",
        "        n_estimators=10000,\n",
        "        random_state=42,\n",
        "        device='gpu'\n",
        "    )\n",
        "\n",
        "    LGBM.fit(\n",
        "        train_data, train_labels,\n",
        "        eval_set=[(valid_data, valid_labels)],\n",
        "        callbacks=[lgb.early_stopping(stopping_rounds=stopping_rounds)],\n",
        "        eval_metric='auc',\n",
        "    )\n",
        "\n",
        "    if not objective:\n",
        "        return LGBM.predict_proba(test_data)[:, 1]\n",
        "    else:\n",
        "        return predict_proba(LGBM, test_data)[:, 1]"
      ],
      "metadata": {
        "id": "FGiDS8V3YVZo"
      },
      "execution_count": 27,
      "outputs": []
    },
    {
      "cell_type": "code",
      "source": [
        "X_train_new_l1, y_train_new_l1 = undersample_data(X_train_l1, y_train_l1)\n",
        "\n",
        "p5 = LGBM_tp_func(X_train_new_l1, y_train_new_l1, X_valid_l1, y_valid_l1, test_l1)"
      ],
      "metadata": {
        "id": "S1BHrk2E80kZ"
      },
      "execution_count": null,
      "outputs": []
    },
    {
      "cell_type": "code",
      "source": [
        "# p6 = LGBM_tp_func(X_train_l1, y_train_l1, X_valid_l1, y_valid_l1, test_l1, objective=RFLBinary(r=1.0, q=0.5, clip=True))"
      ],
      "metadata": {
        "id": "ZO5d7H8R80mq"
      },
      "execution_count": null,
      "outputs": []
    },
    {
      "cell_type": "code",
      "source": [
        "X_train_new_l2, y_train_new_l2 = undersample_data(X_train_l2, y_train_l2)\n",
        "\n",
        "p7 = LGBM_tp_func(X_train_new_l2, y_train_new_l2, X_valid_l2, y_valid_l2, test_l2)"
      ],
      "metadata": {
        "id": "-vD9ILIMBto-"
      },
      "execution_count": null,
      "outputs": []
    },
    {
      "cell_type": "code",
      "source": [
        "# p8 = LGBM_tp_func(X_train_l2, y_train_l2, X_valid_l2, y_valid_l2, test_l2, objective=RFLBinary(r=1.0, q=0.5, clip=True))"
      ],
      "metadata": {
        "id": "r-E8VXZlBtuC"
      },
      "execution_count": null,
      "outputs": []
    },
    {
      "cell_type": "code",
      "source": [
        "submission = pd.read_csv('data/sample_submission.csv')\n",
        "submission['Click'] = (p1 + (3*p3) + p4 + p5 + p7) / 7\n",
        "submission.to_csv('submit/soft_ens.csv', index=False)"
      ],
      "metadata": {
        "id": "B--Yjfe4L7Px"
      },
      "execution_count": 24,
      "outputs": []
    }
  ]
}