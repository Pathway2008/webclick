{
 "cells": [
  {
   "cell_type": "markdown",
   "id": "6a5997ce",
   "metadata": {},
   "source": [
    "밑의 첫 두개의 코드 블록은 Cardinality, Less important Feature를 구분하기 위해 활용했던 코드입니다. 특히 2번째 블록은 한번 Catboost 모델 학습 이후 알게된 결과값이니, 이 점 참조 바랍니다."
   ]
  },
  {
   "cell_type": "code",
   "execution_count": 11,
   "id": "58e63dfd",
   "metadata": {},
   "outputs": [
    {
     "name": "stdout",
     "output_type": "stream",
     "text": [
      "{'ID': 28605391, 'F01': 4760931, 'F02': 304405, 'F03': 64, 'F05': 5343557, 'F07': 151200, 'F08': 79, 'F09': 27551, 'F10': 1404255, 'F12': 4174064, 'F13': 1307, 'F15': 4, 'F16': 15467, 'F17': 10, 'F20': 178603, 'F21': 33, 'F22': 7187, 'F23': 950, 'F25': 10700, 'F26': 2205, 'F28': 55, 'F30': 19444, 'F31': 14, 'F34': 3165581, 'F35': 3, 'F37': 9423, 'F39': 6800}\n"
     ]
    }
   ],
   "source": [
    "import pandas as pd\n",
    "\n",
    "def calculate_nunique_chunks(csv_path, chunksize=50000):\n",
    "    chunk_iter = pd.read_csv(csv_path, chunksize=chunksize)\n",
    "    unique_counts = {}\n",
    "    for chunk in chunk_iter:\n",
    "        for col in chunk.select_dtypes(include='object').columns:\n",
    "            if col not in unique_counts:\n",
    "                unique_counts[col] = set()\n",
    "            unique_counts[col].update(chunk[col].unique())\n",
    "\n",
    "    unique_counts = {col: len(unique_set) for col, unique_set in unique_counts.items()}\n",
    "    return unique_counts\n",
    "\n",
    "if __name__ == \"__main__\":\n",
    "    train_path = 'train.csv'\n",
    "    nunique_counts = calculate_nunique_chunks(train_path)\n",
    "    print(nunique_counts)"
   ]
  },
  {
   "cell_type": "code",
   "execution_count": 10,
   "id": "95053bf0",
   "metadata": {},
   "outputs": [
    {
     "name": "stdout",
     "output_type": "stream",
     "text": [
      "    Feature  Importance\n",
      "6      F09   11.044925\n",
      "15     F20    7.612939\n",
      "27     F32    6.910839\n",
      "19     F24    5.379934\n",
      "12     F17    5.195723\n",
      "11     F16    5.039283\n",
      "24     F29    4.950099\n",
      "0      F02    4.917526\n",
      "33     F39    4.065120\n",
      "14     F19    3.389363\n",
      "30     F36    3.306575\n",
      "2      F04    2.992188\n",
      "16     F21    2.894445\n",
      "31     F37    2.873075\n",
      "3      F06    2.848689\n",
      "7      F11    2.574435\n",
      "20     F25    2.432538\n",
      "10     F15    2.332472\n",
      "8      F13    2.321559\n",
      "26     F31    2.320940\n",
      "5      F08    1.839616\n",
      "23     F28    1.807348\n",
      "4      F07    1.686763\n",
      "28     F33    1.526051\n",
      "9      F14    1.455953\n",
      "1      F03    1.297226\n",
      "13     F18    1.275427\n",
      "21     F26    1.099800\n",
      "22     F27    1.077820\n",
      "29     F35    0.823446\n",
      "32     F38    0.552689\n",
      "18     F23    0.064059\n",
      "17     F22    0.049730\n",
      "25     F30    0.041406\n"
     ]
    }
   ],
   "source": [
    "from catboost import CatBoostClassifier\n",
    "\n",
    "label = 'Click'\n",
    "categorical_columns = [\n",
    "    'F02', 'F03', 'F07', 'F08', 'F09', 'F13', 'F15', 'F16', 'F17',\n",
    "    'F20', 'F21', 'F22', 'F23', 'F25', 'F26', 'F28', 'F30', 'F31',\n",
    "    'F35', 'F37', 'F39'\n",
    "]\n",
    "\n",
    "best_model_path = \"best_catboost_model.cbm\"\n",
    "model = CatBoostClassifier()\n",
    "model.load_model(best_model_path)\n",
    "\n",
    "feature_importances = model.get_feature_importance(type='FeatureImportance')\n",
    "feature_names = model.feature_names_\n",
    "\n",
    "feature_importance_df = pd.DataFrame({\n",
    "    'Feature': feature_names,\n",
    "    'Importance': feature_importances\n",
    "})\n",
    "\n",
    "feature_importance_df = feature_importance_df.sort_values(by='Importance', ascending=False)\n",
    "print(feature_importance_df)"
   ]
  },
  {
   "cell_type": "markdown",
   "id": "c19c81b5",
   "metadata": {},
   "source": [
    "데이터 전처리 과정입니다. 결측치는 0으로, Categorical에 대해서는 'NAN'으로 처리했습니다. 그리고 Label Encoding시 Train에 없는 Test class 에 대해서도 'NAN'으로 처리하도록 했습니다."
   ]
  },
  {
   "cell_type": "code",
   "execution_count": null,
   "id": "3b77ada1",
   "metadata": {},
   "outputs": [],
   "source": [
    "from sklearn.preprocessing import LabelEncoder\n",
    "import numpy as np\n",
    "\n",
    "# Class가 100만개 이상의 High Cardinal한 것, Feature Importance 낮았던 Feature 제거\n",
    "columns_to_remove = ['F01', 'F05', 'F10', 'F12', 'F34', 'F23', 'F22', 'F30']\n",
    "\n",
    "categorical_columns = ['F02', 'F03', 'F07', 'F08', 'F09', 'F13', 'F15', 'F16', 'F17', 'F20', 'F21', 'F25', 'F26', 'F28', 'F31', 'F35', 'F37', 'F39']\n",
    "numerical_columns = ['F04', 'F06', 'F11', 'F14', 'F18', 'F19', 'F24', 'F27', 'F29', 'F32', 'F33', 'F36', 'F38']\n",
    "\n",
    "# 메인메모리에 부담을 없애고자 Data Type downsizing 적용\n",
    "def determine_dtype(series):\n",
    "    if pd.api.types.is_float_dtype(series):\n",
    "        min_val, max_val = series.min(), series.max()\n",
    "        if min_val >= np.finfo(np.float16).min and max_val <= np.finfo(np.float16).max:\n",
    "            return np.float16\n",
    "        elif min_val >= np.finfo(np.float32).min and max_val <= np.finfo(np.float32).max:\n",
    "            return np.float32\n",
    "        else:\n",
    "            return np.float64\n",
    "    elif pd.api.types.is_integer_dtype(series):\n",
    "        min_val, max_val = series.min(), series.max()\n",
    "        if min_val >= np.iinfo(np.int8).min and max_val <= np.iinfo(np.int8).max:\n",
    "            return np.int8\n",
    "        elif min_val >= np.iinfo(np.int16).min and max_val <= np.iinfo(np.int16).max:\n",
    "            return np.int16\n",
    "        elif min_val >= np.iinfo(np.int32).min and max_val <= np.iinfo(np.int32).max:\n",
    "            return np.int32\n",
    "        else:\n",
    "            return np.int64\n",
    "    else:\n",
    "        return series.dtype\n",
    "\n",
    "train_path = 'train.csv'\n",
    "test_path = 'test.csv'\n",
    "\n",
    "unique_classes = {col: set() for col in categorical_columns}\n",
    "\n",
    "#메모리 부족으로, Chunk로 진행\n",
    "train_chunks = pd.read_csv(train_path, chunksize=1000000)\n",
    "for chunk in train_chunks:\n",
    "    for col in categorical_columns:\n",
    "        #결측치 'NAN'으로 설정\n",
    "        chunk[col].fillna('NAN', inplace=True)\n",
    "        unique_classes[col].update(chunk[col].astype(str).unique())\n",
    "\n",
    "label_encoders = {}\n",
    "for col in categorical_columns:\n",
    "    label_encoders[col] = LabelEncoder()\n",
    "    label_encoders[col].fit(list(unique_classes[col]) + ['NAN'])\n",
    "\n",
    "def preprocess_chunk(chunk, label_encoders, is_train=True):\n",
    "    if is_train:\n",
    "        chunk.drop(columns=['ID'], inplace=True)\n",
    "    chunk.drop(columns=columns_to_remove, inplace=True)\n",
    "\n",
    "    for col in categorical_columns:\n",
    "        chunk[col].fillna('NAN', inplace=True)\n",
    "\n",
    "    for col in numerical_columns:\n",
    "        chunk[col].fillna(0, inplace=True)\n",
    "\n",
    "    for col in categorical_columns:\n",
    "        if col in label_encoders:\n",
    "            chunk[col] = chunk[col].apply(lambda x: x if x in label_encoders[col].classes_ else 'NAN')\n",
    "            chunk[col] = label_encoders[col].transform(chunk[col].astype(str))\n",
    "\n",
    "    for col in numerical_columns:\n",
    "        dtype = determine_dtype(chunk[col])\n",
    "        if pd.api.types.is_integer_dtype(dtype):\n",
    "            min_val, max_val = np.iinfo(dtype).min, np.iinfo(dtype).max\n",
    "            chunk[col] = chunk[col].clip(min_val, max_val)\n",
    "        elif pd.api.types.is_float_dtype(dtype):\n",
    "            min_val, max_val = np.finfo(dtype).min, np.finfo(dtype).max\n",
    "            chunk[col] = chunk[col].clip(min_val, max_val)\n",
    "            #결측값 0으로 설정\n",
    "        chunk[col] = pd.to_numeric(chunk[col], errors='coerce').fillna(0).astype(dtype)\n",
    "\n",
    "    return chunk\n",
    "\n",
    "train_processed_chunks = []\n",
    "train_chunks = pd.read_csv(train_path, chunksize=1000000)\n",
    "\n",
    "for chunk in train_chunks:\n",
    "    processed_chunk = preprocess_chunk(chunk, label_encoders, is_train=True)\n",
    "    train_processed_chunks.append(processed_chunk)\n",
    "\n",
    "train_final = pd.concat(train_processed_chunks)\n",
    "train_final.to_csv('train_final.csv', index=False)\n",
    "\n",
    "test_processed_chunks = []\n",
    "test_chunks = pd.read_csv(test_path, chunksize=1000000)\n",
    "\n",
    "for chunk in test_chunks:\n",
    "    processed_chunk = preprocess_chunk(chunk, label_encoders, is_train=False)\n",
    "    test_processed_chunks.append(processed_chunk)\n",
    "\n",
    "test_final = pd.concat(test_processed_chunks)\n",
    "test_final.to_csv('test_final.csv', index=False)\n"
   ]
  },
  {
   "cell_type": "markdown",
   "id": "26e01e57",
   "metadata": {},
   "source": [
    "Memory에 대한 부담을 최소화 하기 위해 Train/val을 따로 저장해서, 새로운 Kernal 환경에서 Load해서 활용했습니다"
   ]
  },
  {
   "cell_type": "code",
   "execution_count": null,
   "id": "86096ced",
   "metadata": {},
   "outputs": [],
   "source": [
    "from sklearn.model_selection import train_test_split\n",
    "\n",
    "train_df = pd.read_csv('train_final.csv')\n",
    "train, val = train_test_split(train_df, test_size=0.05, stratify=train_df['Click'], random_state=42)\n",
    "train.to_csv('train_sampled.csv', index=False)\n",
    "val.to_csv('val_sampled.csv', index=False)"
   ]
  },
  {
   "cell_type": "markdown",
   "id": "46716e6e",
   "metadata": {},
   "source": [
    "Data Type 축소"
   ]
  },
  {
   "cell_type": "code",
   "execution_count": 3,
   "id": "d0a5f4da-1102-4951-85a7-c02b9d37cfdf",
   "metadata": {},
   "outputs": [],
   "source": [
    "def downcast_df(df):\n",
    "    for col in df.select_dtypes(include=['int']).columns:\n",
    "        df[col] = pd.to_numeric(df[col], downcast='integer')\n",
    "    \n",
    "    for col in df.select_dtypes(include=['float']).columns:\n",
    "        df[col] = pd.to_numeric(df[col], downcast='float')\n",
    "    \n",
    "    return df\n",
    "\n",
    "train_data = pd.read_csv('train_sampled.csv')\n",
    "val_data = pd.read_csv('val_sampled.csv')\n",
    "\n",
    "train_data = downcast_df(train_data)\n",
    "val_data = downcast_df(val_data)"
   ]
  },
  {
   "cell_type": "markdown",
   "id": "deaba96b",
   "metadata": {},
   "source": [
    "Catboost 공식 사이트에 scale_pos_weight는 Num_negative / Num_positive로 계산하라고 적혀있어, 그대로 적용했습니다"
   ]
  },
  {
   "cell_type": "code",
   "execution_count": 4,
   "id": "d4ca5a16-22ba-49a5-934c-c1b241558162",
   "metadata": {},
   "outputs": [
    {
     "name": "stdout",
     "output_type": "stream",
     "text": [
      "weight: 4.135746773943293\n"
     ]
    }
   ],
   "source": [
    "from catboost import CatBoostClassifier, Pool\n",
    "from sklearn.model_selection import train_test_split\n",
    "from sklearn.metrics import roc_auc_score\n",
    "\n",
    "label = 'Click'\n",
    "categorical_features = ['F02', 'F03', 'F07', 'F08', 'F09', 'F13', 'F15', 'F16', 'F17', 'F20', 'F21', 'F25', 'F26', 'F28', 'F31', 'F35', 'F37', 'F39']\n",
    "\n",
    "num_positive = train_data[train_data[label] == 1].shape[0]\n",
    "num_negative = train_data[train_data[label] == 0].shape[0]\n",
    "scale_pos_weight = num_negative / num_positive\n",
    "\n",
    "train_pool = Pool(data=train_data.drop(columns=[label]), label=train_data[label], cat_features=categorical_features)\n",
    "val_pool = Pool(data=val_data.drop(columns=[label]), label=val_data[label], cat_features=categorical_features)\n",
    "\n",
    "print(f\"weight: {scale_pos_weight}\")"
   ]
  },
  {
   "cell_type": "markdown",
   "id": "0e5199eb",
   "metadata": {},
   "source": [
    "Optuna로 찾은 Hyperparameter로 학습 진행하였습니다. 다만, 그냥 진행할 경우 Model Shrink도중 메모리 용량 제한으로 인해 kernal이 꺼지게 됩니다. 이는 Category가 많을 때 발생하는데, Model_size_reg를 활용하면 이 문제를 해결할 수 있습니다 (성능 저하는 발생합니다). 데이터의 갯수가 많으므로, boosting type은 Plain으로 설정하여 조금이라도 훈련 속도를 가속화하고자 했고, 혹시나 Kernal이 꺼지게 될 경우가 있어, snapshot을 활용하였습니다. Border Count의 경우 Best Performance를 위해서는 254를 추천하고 있고, 저는 255로 해봤습니다. "
   ]
  },
  {
   "cell_type": "code",
   "execution_count": 6,
   "id": "581ea1bc-52bd-4029-a096-53d6748f7ce0",
   "metadata": {},
   "outputs": [
    {
     "name": "stdout",
     "output_type": "stream",
     "text": [
      "훈련 개시\n",
      "0:\ttest: 0.7268263\tbest: 0.7268263 (0)\ttotal: 2.25s\tremaining: 3h 7m 49s\n",
      "100:\ttest: 0.7726049\tbest: 0.7726049 (100)\ttotal: 3m 24s\tremaining: 2h 44m 56s\n",
      "200:\ttest: 0.7787056\tbest: 0.7787056 (200)\ttotal: 6m 36s\tremaining: 2h 37m 54s\n",
      "300:\ttest: 0.7819455\tbest: 0.7819455 (300)\ttotal: 9m 47s\tremaining: 2h 32m 55s\n",
      "400:\ttest: 0.7839791\tbest: 0.7839791 (400)\ttotal: 13m\tremaining: 2h 29m 9s\n",
      "500:\ttest: 0.7852241\tbest: 0.7852241 (500)\ttotal: 16m 6s\tremaining: 2h 24m 42s\n",
      "600:\ttest: 0.7862383\tbest: 0.7862383 (600)\ttotal: 19m 27s\tremaining: 2h 22m 24s\n",
      "700:\ttest: 0.7870005\tbest: 0.7870005 (700)\ttotal: 22m 34s\tremaining: 2h 18m 25s\n",
      "800:\ttest: 0.7876433\tbest: 0.7876433 (800)\ttotal: 25m 42s\tremaining: 2h 14m 48s\n",
      "900:\ttest: 0.7881540\tbest: 0.7881540 (900)\ttotal: 28m 52s\tremaining: 2h 11m 23s\n",
      "1000:\ttest: 0.7885418\tbest: 0.7885418 (1000)\ttotal: 32m 5s\tremaining: 2h 8m 13s\n",
      "1100:\ttest: 0.7889055\tbest: 0.7889055 (1100)\ttotal: 35m 15s\tremaining: 2h 4m 50s\n",
      "1200:\ttest: 0.7892120\tbest: 0.7892120 (1200)\ttotal: 38m 34s\tremaining: 2h 2m 2s\n",
      "1300:\ttest: 0.7895109\tbest: 0.7895109 (1300)\ttotal: 41m 50s\tremaining: 1h 58m 56s\n",
      "1400:\ttest: 0.7897356\tbest: 0.7897356 (1400)\ttotal: 45m 9s\tremaining: 1h 56m 1s\n",
      "1500:\ttest: 0.7899645\tbest: 0.7899645 (1500)\ttotal: 48m 25s\tremaining: 1h 52m 52s\n",
      "1600:\ttest: 0.7901369\tbest: 0.7901369 (1600)\ttotal: 51m 43s\tremaining: 1h 49m 48s\n",
      "1700:\ttest: 0.7902762\tbest: 0.7902762 (1700)\ttotal: 55m 5s\tremaining: 1h 46m 50s\n",
      "1800:\ttest: 0.7904127\tbest: 0.7904135 (1798)\ttotal: 58m 22s\tremaining: 1h 43m 42s\n",
      "1900:\ttest: 0.7905316\tbest: 0.7905316 (1900)\ttotal: 1h 1m 45s\tremaining: 1h 40m 40s\n",
      "2000:\ttest: 0.7906514\tbest: 0.7906514 (2000)\ttotal: 1h 5m 5s\tremaining: 1h 37m 33s\n",
      "2100:\ttest: 0.7907385\tbest: 0.7907385 (2100)\ttotal: 1h 8m 25s\tremaining: 1h 34m 24s\n",
      "2200:\ttest: 0.7908386\tbest: 0.7908388 (2199)\ttotal: 1h 11m 49s\tremaining: 1h 31m 20s\n",
      "2300:\ttest: 0.7909200\tbest: 0.7909200 (2300)\ttotal: 1h 15m 3s\tremaining: 1h 28m 2s\n",
      "2400:\ttest: 0.7910108\tbest: 0.7910108 (2400)\ttotal: 1h 18m 26s\tremaining: 1h 24m 54s\n",
      "2500:\ttest: 0.7910871\tbest: 0.7910871 (2500)\ttotal: 1h 21m 47s\tremaining: 1h 21m 43s\n",
      "2600:\ttest: 0.7911638\tbest: 0.7911638 (2600)\ttotal: 1h 25m 8s\tremaining: 1h 18m 31s\n",
      "2700:\ttest: 0.7912141\tbest: 0.7912145 (2699)\ttotal: 1h 28m 30s\tremaining: 1h 15m 20s\n",
      "2800:\ttest: 0.7912645\tbest: 0.7912660 (2795)\ttotal: 1h 31m 57s\tremaining: 1h 12m 11s\n",
      "2900:\ttest: 0.7913180\tbest: 0.7913187 (2899)\ttotal: 1h 35m 12s\tremaining: 1h 8m 53s\n",
      "3000:\ttest: 0.7913718\tbest: 0.7913727 (2998)\ttotal: 1h 38m 37s\tremaining: 1h 5m 41s\n",
      "3100:\ttest: 0.7914189\tbest: 0.7914190 (3099)\ttotal: 1h 41m 58s\tremaining: 1h 2m 26s\n",
      "3200:\ttest: 0.7914721\tbest: 0.7914726 (3197)\ttotal: 1h 45m 25s\tremaining: 59m 15s\n",
      "3300:\ttest: 0.7915091\tbest: 0.7915091 (3300)\ttotal: 1h 48m 56s\tremaining: 56m 4s\n",
      "3400:\ttest: 0.7915458\tbest: 0.7915458 (3400)\ttotal: 1h 52m 15s\tremaining: 52m 46s\n",
      "3500:\ttest: 0.7915830\tbest: 0.7915830 (3500)\ttotal: 1h 55m 31s\tremaining: 49m 27s\n",
      "3600:\ttest: 0.7916186\tbest: 0.7916207 (3598)\ttotal: 1h 58m 50s\tremaining: 46m 10s\n",
      "3700:\ttest: 0.7916561\tbest: 0.7916561 (3700)\ttotal: 2h 2m 11s\tremaining: 42m 53s\n",
      "3800:\ttest: 0.7916880\tbest: 0.7916880 (3800)\ttotal: 2h 5m 38s\tremaining: 39m 37s\n",
      "3900:\ttest: 0.7917341\tbest: 0.7917344 (3898)\ttotal: 2h 9m 1s\tremaining: 36m 21s\n",
      "4000:\ttest: 0.7917638\tbest: 0.7917640 (3990)\ttotal: 2h 12m 20s\tremaining: 33m 2s\n",
      "4100:\ttest: 0.7917768\tbest: 0.7917775 (4098)\ttotal: 2h 15m 40s\tremaining: 29m 44s\n",
      "4200:\ttest: 0.7917984\tbest: 0.7918040 (4168)\ttotal: 2h 18m 59s\tremaining: 26m 26s\n",
      "4300:\ttest: 0.7918279\tbest: 0.7918329 (4273)\ttotal: 2h 22m 17s\tremaining: 23m 7s\n",
      "bestTest = 0.7918328941\n",
      "bestIteration = 4273\n",
      "Shrink model to first 4274 iterations.\n",
      "종료\n"
     ]
    }
   ],
   "source": [
    "catboost_params = {\n",
    "    'iterations': 5000,\n",
    "    'depth': 10,\n",
    "    'learning_rate': 0.110521996103408,\n",
    "    'border_count': 255,\n",
    "    'eval_metric': 'AUC',\n",
    "    'verbose': True,\n",
    "    'task_type': 'GPU',\n",
    "    'devices': '0',\n",
    "    'l2_leaf_reg': 3.322521996103408,\n",
    "    'scale_pos_weight': scale_pos_weight,\n",
    "    'bagging_temperature': 0.1277658067340062,\n",
    "    'metric_period': 100,\n",
    "    'save_snapshot': True,\n",
    "    'snapshot_file': 'catboost_snapshot',\n",
    "    'random_strength': 5,\n",
    "    'snapshot_interval': 1200, \n",
    "    'use_best_model': True,\n",
    "    'model_size_reg': 1,\n",
    "    'boosting_type': 'Plain'\n",
    "}\n",
    "\n",
    "model = CatBoostClassifier(**catboost_params)\n",
    "\n",
    "print(\"훈련 개시\")\n",
    "model.fit(train_pool, eval_set=val_pool, use_best_model=True, early_stopping_rounds=50)\n",
    "print(\"종료\")"
   ]
  },
  {
   "cell_type": "code",
   "execution_count": 7,
   "id": "869087dd-4049-4e5f-a76d-175074753640",
   "metadata": {},
   "outputs": [
    {
     "name": "stdout",
     "output_type": "stream",
     "text": [
      "모델 저장\n"
     ]
    }
   ],
   "source": [
    "model.save_model('catboost_model.cbm')\n",
    "print(\"모델 저장\")"
   ]
  },
  {
   "cell_type": "code",
   "execution_count": 9,
   "id": "17d251ba-aa6d-464f-b749-2836f398f32c",
   "metadata": {},
   "outputs": [
    {
     "name": "stdout",
     "output_type": "stream",
     "text": [
      "저장 \n"
     ]
    }
   ],
   "source": [
    "test_data = pd.read_csv(\"test_final.csv\")\n",
    "\n",
    "# 문제 발생했을 경우 모델 로드\n",
    "#model = CatBoostClassifier()\n",
    "#model.load_model(\"catboost_model.cbm\")\n",
    "#categorical_features = ['F02', 'F03', 'F07', 'F08', 'F09', 'F13', 'F15', 'F16', 'F17', 'F20', 'F21', 'F25', 'F26', 'F28', 'F31', 'F35', 'F37', 'F39']\n",
    "\n",
    "test_pool = Pool(data=test_data.drop(columns=['ID']), cat_features=categorical_features)\n",
    "predictions = model.predict_proba(test_pool)[:, 1]\n",
    "submission = pd.DataFrame({\n",
    "    'ID': test_data['ID'],\n",
    "    'Click': predictions\n",
    "})\n",
    "submission.to_csv(\"submission.csv\", index=False)\n",
    "print(\"저장 \")"
   ]
  },
  {
   "cell_type": "code",
   "execution_count": 10,
   "id": "98ce70bc-bd4f-46ce-aa07-a9a8f25d232a",
   "metadata": {},
   "outputs": [
    {
     "name": "stdout",
     "output_type": "stream",
     "text": [
      "                   ID     Click\n",
      "0        TEST_0000000  0.773276\n",
      "1        TEST_0000001  0.362602\n",
      "2        TEST_0000002  0.276485\n",
      "3        TEST_0000003  0.657640\n",
      "4        TEST_0000004  0.702472\n",
      "...               ...       ...\n",
      "4538536  TEST_4538536  0.578357\n",
      "4538537  TEST_4538537  0.578365\n",
      "4538538  TEST_4538538  0.105785\n",
      "4538539  TEST_4538539  0.666890\n",
      "4538540  TEST_4538540  0.682025\n",
      "\n",
      "[4538541 rows x 2 columns]\n"
     ]
    }
   ],
   "source": [
    "print(submission)"
   ]
  }
 ],
 "metadata": {
  "kernelspec": {
   "display_name": "Python 3 (ipykernel)",
   "language": "python",
   "name": "python3"
  },
  "language_info": {
   "codemirror_mode": {
    "name": "ipython",
    "version": 3
   },
   "file_extension": ".py",
   "mimetype": "text/x-python",
   "name": "python",
   "nbconvert_exporter": "python",
   "pygments_lexer": "ipython3",
   "version": "3.10.10"
  }
 },
 "nbformat": 4,
 "nbformat_minor": 5
}
